{
 "cells": [
  {
   "cell_type": "markdown",
   "metadata": {},
   "source": [
    "# PART-1 Taxi Data Analysis of Different Years\n"
   ]
  },
  {
   "cell_type": "markdown",
   "metadata": {},
   "source": [
    "# [Importing required packages]"
   ]
  },
  {
   "cell_type": "code",
   "execution_count": 1,
   "metadata": {},
   "outputs": [],
   "source": [
    "#Importing required packages\n",
    "import json\n",
    "import urllib\n",
    "import pandas as pd\n",
    "import numpy as np\n",
    "import matplotlib.pyplot as plt\n",
    "import seaborn as sb\n",
    "import statistics"
   ]
  },
  {
   "cell_type": "markdown",
   "metadata": {},
   "source": [
    "# [Loading data for different years]"
   ]
  },
  {
   "cell_type": "code",
   "execution_count": 2,
   "metadata": {},
   "outputs": [],
   "source": [
    "#Getting data for year 2018\n",
    "url1 = 'https://data.cityofnewyork.us/resource/w7fs-fd9i.json?$limit=50000'\n",
    "\n",
    "#Converting to pandas dataframe\n",
    "df1 = pd.read_json(url1, orient = 'columns')\n",
    "\n",
    "#Converting to datetime format\n",
    "df1['lpep_dropoff_datetime'] = pd.to_datetime(df1['lpep_dropoff_datetime'])\n",
    "df1['lpep_pickup_datetime'] = pd.to_datetime(df1['lpep_pickup_datetime'])\n",
    "\n",
    "#Getting time only\n",
    "df1['trip_time'] = df1['lpep_dropoff_datetime'] - df1['lpep_pickup_datetime'] #HH:MM:SS\n",
    "df1['diff_time'] = df1['trip_time']/np.timedelta64(1,'m') #output in minutes\n",
    "\n",
    "#df1"
   ]
  },
  {
   "cell_type": "code",
   "execution_count": 3,
   "metadata": {},
   "outputs": [],
   "source": [
    "#Getting data for year 2017\n",
    "url2 = 'https://data.cityofnewyork.us/resource/5gj9-2kzx.json?$limit=50000'\n",
    "df2 = pd.read_json(url2, orient = 'columns')\n",
    "#df2\n",
    "\n",
    "\n",
    "df2['lpep_dropoff_datetime'] = pd.to_datetime(df2['lpep_dropoff_datetime'])\n",
    "df2['lpep_pickup_datetime'] = pd.to_datetime(df2['lpep_pickup_datetime'])\n",
    "df2['trip_time'] = df2['lpep_dropoff_datetime'] - df2['lpep_pickup_datetime']\n",
    "df2['diff_time'] = df2['trip_time']/np.timedelta64(1,'m')"
   ]
  },
  {
   "cell_type": "code",
   "execution_count": 4,
   "metadata": {},
   "outputs": [],
   "source": [
    "#getting data for year 2016\n",
    "\n",
    "url3 = 'https://data.cityofnewyork.us/resource/pqfs-mqru.json?$limit=50000'\n",
    "df3 = pd.read_json(url3, orient = 'columns')\n",
    "#df3\n",
    "\n",
    "df3['lpep_dropoff_datetime'] = pd.to_datetime(df3['lpep_dropoff_datetime'])\n",
    "df3['lpep_pickup_datetime'] = pd.to_datetime(df3['lpep_pickup_datetime'])\n",
    "df3['trip_time'] = df3['lpep_dropoff_datetime'] - df3['lpep_pickup_datetime']\n",
    "df3['diff_time'] = df3['trip_time']/np.timedelta64(1,'m')"
   ]
  },
  {
   "cell_type": "code",
   "execution_count": 5,
   "metadata": {},
   "outputs": [],
   "source": [
    "#Getting data for year 2015\n",
    "\n",
    "url4 = 'https://data.cityofnewyork.us/resource/utt9-dvgj.json?$limit=50000'\n",
    "df4 = pd.read_json(url4, orient = 'columns')\n",
    "#df4\n",
    "\n",
    "df4['lpep_dropoff_datetime'] = pd.to_datetime(df4['lpep_dropoff_datetime'])\n",
    "df4['lpep_pickup_datetime'] = pd.to_datetime(df4['lpep_pickup_datetime'])\n",
    "df4['trip_time'] = df4['lpep_dropoff_datetime'] - df4['lpep_pickup_datetime']\n",
    "df4['diff_time'] = df4['trip_time']/np.timedelta64(1,'m')"
   ]
  },
  {
   "cell_type": "code",
   "execution_count": 6,
   "metadata": {},
   "outputs": [],
   "source": [
    "#getting data for year 2014\n",
    "\n",
    "url5 = 'https://data.cityofnewyork.us/resource/2np7-5jsg.json?$limit=50000'\n",
    "df5 = pd.read_json(url5, orient = 'columns')\n",
    "#df5\n",
    "\n",
    "df5['lpep_dropoff_datetime'] = pd.to_datetime(df5['lpep_dropoff_datetime'])\n",
    "df5['lpep_pickup_datetime'] = pd.to_datetime(df5['lpep_pickup_datetime'])\n",
    "df5['trip_time'] = df5['lpep_dropoff_datetime'] - df5['lpep_pickup_datetime']\n",
    "df5['diff_time'] = df5['trip_time']/np.timedelta64(1,'m')"
   ]
  },
  {
   "cell_type": "code",
   "execution_count": 7,
   "metadata": {},
   "outputs": [],
   "source": [
    "#Getting data for year 2009\n",
    "\n",
    "df6 = 'https://data.cityofnewyork.us/resource/f9tw-8p66.json?$limit=50000'\n",
    "df6 = pd.read_json(df6, orient = 'columns')\n",
    "#df6\n",
    "\n",
    "df6['tpep_dropoff_datetime'] = pd.to_datetime(df6['tpep_dropoff_datetime'])\n",
    "df6['tpep_pickup_datetime'] = pd.to_datetime(df6['tpep_pickup_datetime'])\n",
    "df6['trip_time'] = df6['tpep_dropoff_datetime'] - df6['tpep_pickup_datetime']\n",
    "df6['diff_time'] = df6['trip_time']/np.timedelta64(1,'m')"
   ]
  },
  {
   "cell_type": "markdown",
   "metadata": {},
   "source": [
    "# [Analysis for different range of trips]"
   ]
  },
  {
   "cell_type": "markdown",
   "metadata": {},
   "source": [
    "# Filter for each years"
   ]
  },
  {
   "cell_type": "code",
   "execution_count": 8,
   "metadata": {},
   "outputs": [],
   "source": [
    "#For year 2018\n",
    "df1_1  = df1[(df1['trip_distance']<1)]\n",
    "df1_12 = df1[(df1['trip_distance']>=1) & (df1['trip_distance']<2)]\n",
    "df1_23 = df1[(df1['trip_distance']>=2) & (df1['trip_distance']<3)]\n",
    "df1_34 = df1[(df1['trip_distance']>=3) & (df1['trip_distance']<4)]\n",
    "df1_45 = df1[(df1['trip_distance']>=4) & (df1['trip_distance']<5)]\n",
    "df1_56 = df1[(df1['trip_distance']>=5) & (df1['trip_distance']<6)]\n",
    "df1_6  = df1[(df1['trip_distance']>=6)]"
   ]
  },
  {
   "cell_type": "code",
   "execution_count": 9,
   "metadata": {},
   "outputs": [],
   "source": [
    "#For year 2017\n",
    "df2_1  = df2[(df2['trip_distance'])<1]\n",
    "df2_12 = df2[(df2['trip_distance']>=1) & (df2['trip_distance']<2)]\n",
    "df2_23 = df2[(df2['trip_distance']>=2) & (df2['trip_distance']<3)]\n",
    "df2_34 = df2[(df2['trip_distance']>=3) & (df2['trip_distance']<4)]\n",
    "df2_45 = df2[(df2['trip_distance']>=4) & (df2['trip_distance']<5)]\n",
    "df2_56 = df2[(df2['trip_distance']>=5) & (df2['trip_distance']<6)]\n",
    "df2_6  = df2[(df2['trip_distance']>=6)]"
   ]
  },
  {
   "cell_type": "code",
   "execution_count": 10,
   "metadata": {},
   "outputs": [],
   "source": [
    "#For year 2016\n",
    "df3_1  = df3[(df3['trip_distance']<1)]\n",
    "df3_12 = df3[(df3['trip_distance']>=1) & (df3['trip_distance']<2)]\n",
    "df3_23 = df3[(df3['trip_distance']>=2) & (df3['trip_distance']<3)]\n",
    "df3_34 = df3[(df3['trip_distance']>=3) & (df3['trip_distance']<4)]\n",
    "df3_45 = df3[(df3['trip_distance']>=4) & (df3['trip_distance']<5)]\n",
    "df3_56 = df3[(df3['trip_distance']>=5) & (df3['trip_distance']<6)]\n",
    "df3_6  = df3[(df3['trip_distance']>=6)]"
   ]
  },
  {
   "cell_type": "code",
   "execution_count": 11,
   "metadata": {},
   "outputs": [],
   "source": [
    "#For year 2015\n",
    "df4_1  = df4[(df4['trip_distance']<1)]\n",
    "df4_12 = df4[(df4['trip_distance']>=1) & (df4['trip_distance']<2)]\n",
    "df4_23 = df4[(df4['trip_distance']>=2) & (df4['trip_distance']<3)]\n",
    "df4_34 = df4[(df4['trip_distance']>=3) & (df4['trip_distance']<4)]\n",
    "df4_45 = df4[(df4['trip_distance']>=4) & (df4['trip_distance']<5)]\n",
    "df4_56 = df4[(df4['trip_distance']>=5) & (df4['trip_distance']<6)]\n",
    "df4_6  = df4[(df4['trip_distance']>=6)]"
   ]
  },
  {
   "cell_type": "code",
   "execution_count": 12,
   "metadata": {},
   "outputs": [],
   "source": [
    "#For year 2014\n",
    "df5_1  = df5[(df5['trip_distance']<1)]\n",
    "df5_12 = df5[(df5['trip_distance']>=1) & (df5['trip_distance']<2)]\n",
    "df5_23 = df5[(df5['trip_distance']>=2) & (df5['trip_distance']<3)]\n",
    "df5_34 = df5[(df5['trip_distance']>=3) & (df5['trip_distance']<4)]\n",
    "df5_45 = df5[(df5['trip_distance']>=4) & (df5['trip_distance']<5)]\n",
    "df5_56 = df5[(df5['trip_distance']>=5) & (df5['trip_distance']<6)]\n",
    "df5_6  = df5[(df5['trip_distance']>=6)]"
   ]
  },
  {
   "cell_type": "code",
   "execution_count": 13,
   "metadata": {},
   "outputs": [],
   "source": [
    "#For year 2009\n",
    "df6_1  = df6[(df6['trip_distance']<1)]\n",
    "df6_12 = df6[(df6['trip_distance']>=1) & (df6['trip_distance']<2)]\n",
    "df6_23 = df6[(df6['trip_distance']>=2) & (df6['trip_distance']<3)]\n",
    "df6_34 = df6[(df6['trip_distance']>=3) & (df6['trip_distance']<4)]\n",
    "df6_45 = df6[(df6['trip_distance']>=4) & (df6['trip_distance']<5)]\n",
    "df6_56 = df6[(df6['trip_distance']>=5) & (df6['trip_distance']<6)]\n",
    "df6_6  = df6[(df6['trip_distance']>=6)]"
   ]
  },
  {
   "cell_type": "markdown",
   "metadata": {},
   "source": [
    "# Making list of differernt range of data for each years "
   ]
  },
  {
   "cell_type": "code",
   "execution_count": 14,
   "metadata": {},
   "outputs": [],
   "source": [
    "d18 = [len(df1_12), len(df1_23), len(df1_34), len(df1_45), len(df1_56), len(df1_6)]\n",
    "d17 = [len(df2_12), len(df2_23), len(df2_34), len(df2_45), len(df2_56), len(df2_6)]\n",
    "d16 = [len(df3_12), len(df3_23), len(df3_34), len(df3_45), len(df3_56), len(df3_6)]\n",
    "d15 = [len(df4_12), len(df4_23), len(df4_34), len(df4_45), len(df4_56), len(df4_6)]\n",
    "d14 = [len(df5_12), len(df5_23), len(df5_34), len(df5_45), len(df5_56), len(df5_6)]\n",
    "d09 = [len(df6_12), len(df6_23), len(df6_34), len(df6_45), len(df6_56), len(df6_6)]"
   ]
  },
  {
   "cell_type": "markdown",
   "metadata": {},
   "source": [
    "# Bar chart for the data filtered above"
   ]
  },
  {
   "cell_type": "code",
   "execution_count": 15,
   "metadata": {},
   "outputs": [
    {
     "data": {
      "image/png": "[encoded data removed]",
      "text/plain": [
       "<Figure size 432x288 with 1 Axes>"
      ]
     },
     "metadata": {},
     "output_type": "display_data"
    }
   ],
   "source": [
    "#Change in number of total trips in different range\n",
    "with plt.style.context ('grayscale'):\n",
    "    n_groups = 6\n",
    "    fig, ax = plt.subplots()\n",
    "    index = np.arange(n_groups)\n",
    "    bar_width = 0.2\n",
    "    opacity = 0.8\n",
    "    reacts1 = plt.bar(index, d09, bar_width,alpha=opacity,color='#276478',label='2009')\n",
    "    reacts2 = plt.bar(index+bar_width, d15, bar_width,alpha=opacity,color='#849FAD',label='2015')\n",
    "    reacts4 = plt.bar(index+(bar_width)*2, d16, bar_width,alpha=opacity,color='#708B6E',label='2016')\n",
    "    plt.xlabel('Year')\n",
    "    plt.ylabel('Number of trips')\n",
    "    plt.title('Change in number of total trips in different range')\n",
    "    plt.xticks(index + bar_width, ('<2 miles', '2-3 miles', '3-4 miles', '4-5miles','5-6 miles','>6 miles'))\n",
    "    plt.legend()\n",
    "    plt.savefig('Change in number of total trips in different range')\n",
    "    \n",
    "#It is observered that people take less short distance trips after 2015"
   ]
  },
  {
   "cell_type": "markdown",
   "metadata": {},
   "source": [
    "# [Analysis of change in total number of trips over the years]"
   ]
  },
  {
   "cell_type": "markdown",
   "metadata": {},
   "source": [
    "# Querying data by using mta_tax = 0 and trip_type=1 for each years"
   ]
  },
  {
   "cell_type": "code",
   "execution_count": 16,
   "metadata": {},
   "outputs": [],
   "source": [
    "#Checking the number of trips over the years\n",
    "#For this sample, query is being done by filtering mta_tax=0 & trip_type=1\n",
    "#loading the data\n",
    "\n",
    "#Year 2018\n",
    "\n",
    "url1 = 'https://data.cityofnewyork.us/resource/w7fs-fd9i.json?$where=mta_tax=0&trip_type=1&$limit=30000'\n",
    "dataf1 = pd.read_json(url1, orient = 'columns')\n",
    "dataf1 = dataf1.dropna()\n",
    "len18 = len(dataf1)\n",
    "#len18\n",
    "\n",
    "#Year 2017\n",
    "\n",
    "url2 = 'https://data.cityofnewyork.us/resource/5gj9-2kzx.json?$where=mta_tax=0&trip_type=1&$limit=30000'\n",
    "dataf2 = pd.read_json(url2, orient = 'columns')\n",
    "dataf2 = dataf2.dropna()\n",
    "len17 = len(dataf2)\n",
    "\n",
    "#Year 2016\n",
    "\n",
    "url3 = 'https://data.cityofnewyork.us/resource/pqfs-mqru.json?$where=mta_tax=0&trip_type=1&$limit=30000'\n",
    "dataf3 = pd.read_json(url3, orient = 'columns')\n",
    "dataf3 = dataf3[['fare_amount','total_amount','trip_distance']]\n",
    "dataf3 = dataf3.dropna()\n",
    "len16 = len(dataf3)\n",
    "\n",
    "#Year 2015\n",
    "\n",
    "url4 = 'https://data.cityofnewyork.us/resource/utt9-dvgj.json?$where=mta_tax=0&trip_type=1&$limit=30000'\n",
    "dataf4 = pd.read_json(url4, orient = 'columns')\n",
    "dataf4 = dataf4[['fare_amount','total_amount','trip_distance']]\n",
    "dataf4 = dataf4.dropna()\n",
    "len15 = len(dataf4)\n",
    "\n",
    "#Year 2014\n",
    "\n",
    "url5 = 'https://data.cityofnewyork.us/resource/2np7-5jsg.json?$where=mta_tax=0&trip_type=1&$limit=30000'\n",
    "dataf5 = pd.read_json(url5, orient = 'columns')\n",
    "dataf5 = dataf5[['fare_amount','total_amount','trip_distance']]\n",
    "dataf5 = dataf5\n",
    "len14 = len(dataf5)"
   ]
  },
  {
   "cell_type": "markdown",
   "metadata": {},
   "source": [
    "# Bar chart for number of taxi trips over the years"
   ]
  },
  {
   "cell_type": "code",
   "execution_count": 17,
   "metadata": {},
   "outputs": [
    {
     "data": {
      "image/png": "[encoded data removed]",
      "text/plain": [
       "<Figure size 432x288 with 1 Axes>"
      ]
     },
     "metadata": {},
     "output_type": "display_data"
    }
   ],
   "source": [
    "#For comparison of number of trips using bar chart\n",
    " \n",
    "total_trips = [len14,len15,len16,len17,len18]\n",
    "trips = np.arange(len(total_trips))\n",
    "\n",
    "#total_trips\n",
    "lab = ['2014','2015','2016','2017','2018']\n",
    "with plt.style.context ('grayscale'):\n",
    "    plt.bar(trips, total_trips, align='center', alpha=1,color = '#276478')\n",
    "    #plt.xticks(total_trips, lab)\n",
    "    plt.xticks(trips,lab)\n",
    "    plt.xlabel('Year')\n",
    "    plt.ylabel('Number of trips')\n",
    "    plt.title('Bar chart of number of taxi trips over the years 2014 to 2018')\n",
    "    for index,data in enumerate(total_trips):\n",
    "        plt.text(x = index-0.35, y = 1.15, s = f\"{data}\", fontdict = dict(fontsize = 15), color = 'white')\n",
    "    plt.savefig('taxitripsovertheyears')\n",
    "    \n",
    "#Total number of trips has been decreased"
   ]
  },
  {
   "cell_type": "markdown",
   "metadata": {},
   "source": [
    "# [Analysis of average fare amount when trip distance is less than 10]"
   ]
  },
  {
   "cell_type": "markdown",
   "metadata": {},
   "source": [
    "# Filtering data as per requirement in this part"
   ]
  },
  {
   "cell_type": "code",
   "execution_count": 18,
   "metadata": {},
   "outputs": [
    {
     "data": {
      "text/plain": [
       "20.287266131744584"
      ]
     },
     "execution_count": 18,
     "metadata": {},
     "output_type": "execute_result"
    }
   ],
   "source": [
    "#Average fare amount for trip distance between 0-10\n",
    "\n",
    "#Year 2009\n",
    "dfr2009 = 'https://data.cityofnewyork.us/resource/f9tw-8p66.json'\n",
    "dfr2009 = pd.read_json(dfr2009, orient = 'columns')\n",
    "dfr2009 = dfr2009[['fare_amount','total_amount','trip_distance']]  #Taking 3 columns only\n",
    "dfr2009.dropna()  #Dropping NA values\n",
    "len2009 = len(dfr2009)\n",
    "len2009\n",
    "dfr2009 = dfr2009[['total_amount']][(dfr2009['trip_distance']<10)]\n",
    "avg2009 = dfr2009['total_amount'].sum()/len2009\n",
    "avg2009 #9.510069999999999\n",
    "\n",
    "#Year 2014\n",
    "dfr2014 = 'https://data.cityofnewyork.us/resource/2np7-5jsg.json?$where=mta_tax=0&trip_type=1&$limit=50000'  \n",
    "dfr2014 = pd.read_json(dfr2014, orient = 'columns')\n",
    "dfr2014 = dfr2014[['fare_amount','total_amount','trip_distance']]\n",
    "dfr2014.dropna()\n",
    "dfr2014 = dfr2014[['trip_distance','total_amount']][(dfr2014['trip_distance']<10)]\n",
    "len2014 = len(dfr2014)\n",
    "avg2014 = dfr2014['total_amount'].sum()/len2014\n",
    "avg2014 #15.67164815652961\n",
    "\n",
    "#Year 2015\n",
    "dfr2015 = 'https://data.cityofnewyork.us/resource/utt9-dvgj.json?$where=mta_tax=0&trip_type=1&$limit=50000'  \n",
    "dfr2015 = pd.read_json(dfr2015, orient = 'columns')\n",
    "dfr2015 = dfr2015[['fare_amount','total_amount','trip_distance']]\n",
    "dfr2015.dropna()\n",
    "dfr2015 = dfr2015[['trip_distance','total_amount']][(dfr2015['trip_distance']<10)]\n",
    "len2015 = len(dfr2015)\n",
    "avg2015 = dfr2015['total_amount'].sum()/len2015\n",
    "avg2015 #20.287266131744584"
   ]
  },
  {
   "cell_type": "markdown",
   "metadata": {},
   "source": [
    "# Showing result using line and bar chart "
   ]
  },
  {
   "cell_type": "code",
   "execution_count": 19,
   "metadata": {},
   "outputs": [
    {
     "data": {
      "image/png": "[encoded data removed]",
      "text/plain": [
       "<Figure size 360x720 with 2 Axes>"
      ]
     },
     "metadata": {},
     "output_type": "display_data"
    }
   ],
   "source": [
    "#Line chart and bar chart for change in fare amount\n",
    "\n",
    "#Making required lists\n",
    "ticks = ['2009','2014','2015']\n",
    "fare_amount = [avg2009, avg2014, avg2015]\n",
    "\n",
    "#plot\n",
    "with plt.style.context ('grayscale'):\n",
    "    fig , (ax1 , ax2) = plt. subplots (2, sharey = False, figsize = (5,10) )\n",
    "    ax2 = sb.lineplot(x = ticks, y = fare_amount, color = '#276478', marker = 'o')\n",
    "    ax1.bar(ticks, fare_amount, align = 'center', alpha=1, color = '#276478')\n",
    "    ax1.set(title = 'Bar Chart')\n",
    "    ax2.set(title = 'Line Chart')\n",
    "    ax1.set(xlabel = 'Year', ylabel = 'Average fare amount')\n",
    "    ax2.set(xlabel = 'Year', ylabel = 'Average fare amount')\n",
    "    for index,data in enumerate(fare_amount):\n",
    "        plt.text(x = index, y = data+0.4, s=f\"{data}\", fontdict = dict(fontsize = 15), color = 'red')\n",
    "    plt.savefig('avgfare')"
   ]
  },
  {
   "cell_type": "markdown",
   "metadata": {},
   "source": [
    "# [Checking the revenue over the years]"
   ]
  },
  {
   "cell_type": "code",
   "execution_count": 20,
   "metadata": {},
   "outputs": [],
   "source": [
    "#Taking data\n",
    "#300000 data has been taken for each years\n",
    "#It will take few minutes to load data\n",
    "\n",
    "#year 2018\n",
    "\n",
    "urlr1 = 'https://data.cityofnewyork.us/resource/w7fs-fd9i.json?$limit=300000'\n",
    "dfr1 = pd.read_json(urlr1, orient = 'columns')\n",
    "\n",
    "#year 2017\n",
    "\n",
    "urlr2 = 'https://data.cityofnewyork.us/resource/5gj9-2kzx.json?$limit=300000'\n",
    "dfr2 = pd.read_json(urlr2, orient = 'columns')\n",
    "\n",
    "#year 2016\n",
    "\n",
    "urlr3 = 'https://data.cityofnewyork.us/resource/pqfs-mqru.json?$limit=300000'\n",
    "dfr3 = pd.read_json(urlr3, orient = 'columns')\n",
    "\n",
    "#year 2015\n",
    "\n",
    "urlr4 = 'https://data.cityofnewyork.us/resource/utt9-dvgj.json?$limit=300000'\n",
    "dfr4 = pd.read_json(urlr4, orient = 'columns')\n",
    "\n",
    "#year 2014\n",
    "\n",
    "urlr5 = 'https://data.cityofnewyork.us/resource/2np7-5jsg.json?$limit=300000'\n",
    "dfr5 = pd.read_json(urlr5, orient = 'columns')\n",
    "\n",
    "#getting data for year 2009\n",
    "\n",
    "dfr6 = 'https://data.cityofnewyork.us/resource/f9tw-8p66.json?$limit=300000'\n",
    "dfr6 = pd.read_json(dfr6, orient = 'columns')"
   ]
  },
  {
   "cell_type": "code",
   "execution_count": 21,
   "metadata": {},
   "outputs": [],
   "source": [
    "#Checking the total revenue for each year\n",
    "rev14 = dfr4['fare_amount'].sum()\n",
    "rev15 = dfr5['fare_amount'].sum()\n",
    "rev16 = dfr3['fare_amount'].sum()\n",
    "rev17 = dfr2['fare_amount'].sum()\n",
    "rev18 = dfr1['fare_amount'].sum()"
   ]
  },
  {
   "cell_type": "markdown",
   "metadata": {},
   "source": [
    "# Bar chart for revenues of each year\n",
    "Here we can say that, number of trips has been decreased over the years. On the other hand, fare amount has been increased. Hence taxi company earns almost same amount over the years even though the trips number has been decreased"
   ]
  },
  {
   "cell_type": "code",
   "execution_count": 22,
   "metadata": {},
   "outputs": [
    {
     "data": {
      "image/png": "[encoded data removed]",
      "text/plain": [
       "<Figure size 432x288 with 1 Axes>"
      ]
     },
     "metadata": {},
     "output_type": "display_data"
    }
   ],
   "source": [
    "#Ploting bar chart for revenue\n",
    "\n",
    "#creating required data\n",
    "revenue = [rev14,rev15,rev16,rev17,rev18]\n",
    "y_pos = np.arange(len(revenue))\n",
    "lab = ['2014','2015','2016','2017','2018']\n",
    "\n",
    "#Bar chart\n",
    "with plt.style.context ('grayscale'):\n",
    "    plt.bar(y_pos, revenue, align ='center', alpha = 1, color = '#276478')\n",
    "    plt.xticks(y_pos, lab)\n",
    "    plt.title('Bar chart of total revenue over the years from 2009 to 2018')\n",
    "    plt.ylabel('Total Revenue($)')\n",
    "    plt.xlabel('Year')\n",
    "    for index,data in enumerate([int(n/100000) for n in revenue]):\n",
    "        plt.text(x = index-0.12, y = 1, s = f\"{data}\", fontdict = dict(fontsize = 15), color = 'white')\n",
    "    plt.savefig('revenue')"
   ]
  },
  {
   "cell_type": "markdown",
   "metadata": {},
   "source": [
    "# [Comparison of type of payment used over the years]"
   ]
  },
  {
   "cell_type": "markdown",
   "metadata": {},
   "source": [
    "# Filtering data as per requirement"
   ]
  },
  {
   "cell_type": "code",
   "execution_count": 23,
   "metadata": {},
   "outputs": [
    {
     "name": "stderr",
     "output_type": "stream",
     "text": [
      "C:\\Users\\forum\\Anaconda3\\lib\\site-packages\\ipykernel_launcher.py:14: SettingWithCopyWarning: \n",
      "A value is trying to be set on a copy of a slice from a DataFrame\n",
      "\n",
      "See the caveats in the documentation: http://pandas.pydata.org/pandas-docs/stable/indexing.html#indexing-view-versus-copy\n",
      "  \n"
     ]
    }
   ],
   "source": [
    "#For comparison of type of payment \n",
    "#1 = Credit card\n",
    "#2 = Cash\n",
    "#3 = No charge\n",
    "#4 = Dispute\n",
    "#5 = Unknown\n",
    "#6 = Voided trip\n",
    "\n",
    "\n",
    "#For year 2009\n",
    "len(dfr6) \n",
    "#300000\n",
    "\n",
    "dfr6['payment_type'][dfr6['payment_type'] == 'CASH'] = 'Cash'\n",
    "\n",
    "payment109 = dfr6[(dfr6['payment_type'] == 'Credit')]\n",
    "len(payment109)\n",
    "#74838\n",
    "\n",
    "payment209 = dfr6[dfr6['payment_type'] == 'Cash']\n",
    "payment209\n",
    "len(payment209)\n",
    "#220004\n",
    "\n",
    "\n",
    "#For year 2014\n",
    "len(dfr5) \n",
    "#300000\n",
    "\n",
    "payment114 = dfr5[dfr5['payment_type'] == 1]\n",
    "len(payment114)\n",
    "#123307\n",
    "\n",
    "payment214 = dfr5[dfr5['payment_type'] == 2]\n",
    "payment214\n",
    "len(payment214)\n",
    "#175215\n",
    "\n",
    "\n",
    "#For year 2015\n",
    "len(dfr4) \n",
    "#300000\n",
    "\n",
    "payment115 = dfr4[dfr4['payment_type'] == 1]\n",
    "len(payment115)\n",
    "#135059\n",
    "\n",
    "payment215 = dfr4[dfr4['payment_type'] == 2]\n",
    "payment215\n",
    "len(payment215)\n",
    "#162968\n",
    "\n",
    "#For year 2016\n",
    "len(dfr3) \n",
    "#300000\n",
    "\n",
    "payment116 = dfr3[dfr3['payment_type'] == 1]\n",
    "len(payment116)\n",
    "#137007 \n",
    "\n",
    "payment216 = dfr3[dfr3['payment_type'] == 2]\n",
    "payment216\n",
    "len(payment216)\n",
    "#160664\n",
    "\n",
    "\n",
    "#For year 2017\n",
    "len(dfr2) \n",
    "#300000\n",
    "\n",
    "payment117 = dfr2[dfr2['payment_type'] == 1]\n",
    "len(payment117)\n",
    "#141161\n",
    "\n",
    "payment217 = dfr2[dfr2['payment_type'] == 2]\n",
    "payment217\n",
    "len(payment217)\n",
    "#156582\n",
    "\n",
    "\n",
    "#For year 2018\n",
    "len(dfr1)\n",
    "#300000\n",
    "\n",
    "payment118 = dfr1[dfr1['payment_type'] == 1]\n",
    "len(payment118)\n",
    "#153166\n",
    "\n",
    "payment218 = dfr1[dfr1['payment_type'] == 2]\n",
    "payment218\n",
    "len(payment218)\n",
    "#144748\n",
    "\n",
    "#Creating lists\n",
    "p_card = (len(payment109),len(payment114),len(payment115),len(payment116),len(payment117),len(payment118))\n",
    "p_cash = (len(payment209),len(payment214),len(payment215),len(payment216),len(payment217),len(payment218)) "
   ]
  },
  {
   "cell_type": "markdown",
   "metadata": {},
   "source": [
    "# Bar chart to show results\n",
    "Here we can conclude that, there is a trend somehow that shows people have started to use credit card more these days "
   ]
  },
  {
   "cell_type": "code",
   "execution_count": 24,
   "metadata": {},
   "outputs": [
    {
     "data": {
      "image/png": "[encoded data removed]",
      "text/plain": [
       "<Figure size 432x288 with 1 Axes>"
      ]
     },
     "metadata": {},
     "output_type": "display_data"
    }
   ],
   "source": [
    "with plt.style.context('grayscale'):\n",
    "    n_groups = 6\n",
    "    fig, ax = plt.subplots()\n",
    "    index = np.arange(n_groups)\n",
    "    bar_width = 0.3\n",
    "    opacity = 0.8\n",
    "    reacts1 = plt.bar(index, p_cash, bar_width, alpha = opacity, color = '#CA3542', label = 'Cash')\n",
    "    reacts2 = plt.bar(index + bar_width, p_card, bar_width, alpha = opacity, color = '#276478', label = 'Card')\n",
    "    plt.xlabel('Typs of payment method used')\n",
    "    plt.ylabel('Total number of payment made')\n",
    "    plt.title('Payment type for years 2017 and 2018')\n",
    "    plt.xticks(index + bar_width, ('2009', '2014','2015','2016','2017','2018'))\n",
    "    plt.legend()"
   ]
  }
 ],
 "metadata": {
  "kernelspec": {
   "display_name": "Python 3",
   "language": "python",
   "name": "python3"
  },
  "language_info": {
   "codemirror_mode": {
    "name": "ipython",
    "version": 3
   },
   "file_extension": ".py",
   "mimetype": "text/x-python",
   "name": "python",
   "nbconvert_exporter": "python",
   "pygments_lexer": "ipython3",
   "version": "3.7.1"
  }
 },
 "nbformat": 4,
 "nbformat_minor": 2
}
